{
 "cells": [
  {
   "cell_type": "markdown",
   "id": "54671d92",
   "metadata": {},
   "source": [
    ". – libovolný znak (kromě nového řádku)\n",
    "^ – začátek řetězce / řádku\n",
    "$ – konec řetězce / řádku\n",
    "\\ – escape znak (např. \\. znamená tečku doslova)\n",
    "| – logické OR\n",
    "\n",
    "Kvantifikátory\n",
    "* – 0 nebo více opakování\n",
    "+ – 1 nebo více opakování\n",
    "? – 0 nebo 1 (volitelný znak/skupina)\n",
    "{n} – přesně n opakování\n",
    "{n,} – n nebo více opakování\n",
    "{n,m} – mezi n a m opakováními\n",
    "\n",
    "Třídy znaků\n",
    "\\d – číslo (0–9)\n",
    "\\D – negace, ne-číslo\n",
    "\\w – slovo (písmeno, číslo, podtržítko)\n",
    "\\W – negace, ne-slovo\n",
    "\\s – whitespace (mezera, tab, nový řádek)\n",
    "\\S – negace, ne-whitespace\n",
    "Vlastní množiny\n",
    "[abc] – jeden znak z množiny (a, b nebo c)\n",
    "[a-z] – rozsah\n",
    "[^abc] – negace (cokoliv kromě a, b, c)"
   ]
  },
  {
   "cell_type": "markdown",
   "id": "b80c13b5",
   "metadata": {},
   "source": [
    "Findall \n",
    "re.findall(pattern, string) v Pythonu vrátí seznam všech substringů, které odpovídají zadanému regulárnímu výrazu"
   ]
  },
  {
   "cell_type": "code",
   "execution_count": null,
   "id": "ceec5a34",
   "metadata": {},
   "outputs": [],
   "source": [
    "import re\n",
    "\n",
    "text = \"Kontaktujte nás na info@firma.cz nebo podpora@firma.com\"\n",
    "\n",
    "match = re.findall( r'[a-zA-Z0-9-_.]+@[a-zA-Z0-9-_.]+\\.[a-z]{2,8}' , text)\n",
    "\n",
    "print(match)\n"
   ]
  },
  {
   "cell_type": "markdown",
   "id": "8f548550",
   "metadata": {},
   "source": [
    "Cvičení\n",
    "Najdi všechna slova začínající na „pro“."
   ]
  },
  {
   "cell_type": "code",
   "execution_count": null,
   "id": "aefcb907",
   "metadata": {},
   "outputs": [],
   "source": [
    "text = \"program, prodej, proto, strom, pro\"\n",
    "\n",
    "match = re.findall( r'\\bpro\\w*' , text)\n",
    "\n",
    "print(match)"
   ]
  },
  {
   "cell_type": "markdown",
   "id": "6aec44ad",
   "metadata": {},
   "source": [
    "Skupiny a alternativy \n",
    "( ) → seskupení\n",
    "| → OR\n",
    "(?: ) → neseskupující závorky"
   ]
  },
  {
   "cell_type": "code",
   "execution_count": null,
   "id": "63590f35",
   "metadata": {},
   "outputs": [],
   "source": [
    "text = \"cat dog mouse cat dog\"\n",
    "\n",
    "match = re.findall( r'(cat|dog)' , text)\n",
    "\n",
    "print(match)"
   ]
  },
  {
   "cell_type": "markdown",
   "id": "5929173b",
   "metadata": {},
   "source": [
    "Najdi všechna česká PSČ (formát 123 45 nebo 12345)."
   ]
  },
  {
   "cell_type": "code",
   "execution_count": null,
   "id": "823c141c",
   "metadata": {},
   "outputs": [],
   "source": [
    "text = \"Brno 60200, Praha 110 00, Břeclav 69002\""
   ]
  },
  {
   "cell_type": "markdown",
   "id": "43eb9107",
   "metadata": {},
   "source": [
    "Najdi všechna slova začínající velkým písmenem."
   ]
  },
  {
   "cell_type": "code",
   "execution_count": null,
   "id": "57efd00e",
   "metadata": {},
   "outputs": [],
   "source": [
    "text = \"Monika dělá Regex Workshop v Praze s Tomášem\""
   ]
  },
  {
   "cell_type": "markdown",
   "id": "7c597205",
   "metadata": {},
   "source": [
    "re.match\n",
    "Hledá shodu jen na začátku řetězce.\n",
    "Pokud pattern nesedí hned od začátku, vrací None."
   ]
  },
  {
   "cell_type": "markdown",
   "id": "46ca18d6",
   "metadata": {},
   "source": [
    "Validace celé URL adresy"
   ]
  },
  {
   "cell_type": "code",
   "execution_count": 3,
   "id": "f030805f",
   "metadata": {},
   "outputs": [],
   "source": [
    "urls = [\n",
    "    \"https://monikadvorackova.net\",\n",
    "    \"http://example.com/test/page\",\n",
    "    \"ftp://notvalid.com\",\n",
    "    \"example.com\"\n",
    "]\n"
   ]
  },
  {
   "cell_type": "markdown",
   "id": "44e2fbbb",
   "metadata": {},
   "source": [
    "Extrakce jména a příjmení"
   ]
  },
  {
   "cell_type": "code",
   "execution_count": null,
   "id": "2f1ef8e1",
   "metadata": {},
   "outputs": [],
   "source": [
    "lines = [\n",
    "    \"Name: Monika Dvorackova\",\n",
    "    \"Name: John Doe\",\n",
    "    \"Name: anonym123\"\n",
    "]\n"
   ]
  },
  {
   "cell_type": "markdown",
   "id": "c7b2a3b1",
   "metadata": {},
   "source": [
    "re.sub\n",
    "Nahrazuje vzory v textu jiným řetězcem.\n",
    "Umí i dynamickou náhradu pomocí funkce."
   ]
  },
  {
   "cell_type": "markdown",
   "id": "8612890f",
   "metadata": {},
   "source": [
    "Anonymizace osobních údajů"
   ]
  },
  {
   "cell_type": "code",
   "execution_count": null,
   "id": "44942b9c",
   "metadata": {},
   "outputs": [],
   "source": [
    "text = \"\"\"\n",
    "Jméno: Monika Dvořáčková\n",
    "Email: monika@example.com\n",
    "Telefon: +420 777 123 456\n",
    "Adresa: Brno, Česká republika\n",
    "\"\"\""
   ]
  },
  {
   "cell_type": "markdown",
   "id": "80333a0f",
   "metadata": {},
   "source": [
    "Přepsání dat do jiného formátu\n",
    "Změníme datum z formátu DD.MM.YYYY na YYYY-MM-DD."
   ]
  },
  {
   "cell_type": "code",
   "execution_count": null,
   "id": "f509c1b6",
   "metadata": {},
   "outputs": [],
   "source": [
    "text = \"Dnes je 30.09.2025 a zítra bude 01.10.2025\""
   ]
  },
  {
   "cell_type": "markdown",
   "id": "3c6faeec",
   "metadata": {},
   "source": [
    "Cenzura citlivých slov"
   ]
  },
  {
   "cell_type": "code",
   "execution_count": null,
   "id": "41954ac1",
   "metadata": {},
   "outputs": [],
   "source": [
    "text = \"Tohle je tajné heslo: abcd1234. Nikomu ho neříkej!\""
   ]
  }
 ],
 "metadata": {
  "kernelspec": {
   "display_name": "base",
   "language": "python",
   "name": "python3"
  },
  "language_info": {
   "codemirror_mode": {
    "name": "ipython",
    "version": 3
   },
   "file_extension": ".py",
   "mimetype": "text/x-python",
   "name": "python",
   "nbconvert_exporter": "python",
   "pygments_lexer": "ipython3",
   "version": "3.13.5"
  }
 },
 "nbformat": 4,
 "nbformat_minor": 5
}
